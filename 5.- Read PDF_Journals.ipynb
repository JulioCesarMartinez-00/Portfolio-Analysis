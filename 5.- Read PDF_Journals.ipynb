{
 "cells": [
  {
   "cell_type": "markdown",
   "metadata": {},
   "source": [
    "# Journals"
   ]
  },
  {
   "cell_type": "code",
   "execution_count": 3,
   "metadata": {},
   "outputs": [],
   "source": [
    "library('tabulizer')\n",
    "library('dplyr')\n",
    "library('tidyr')\n",
    "library('stringr')"
   ]
  },
  {
   "cell_type": "code",
   "execution_count": 4,
   "metadata": {},
   "outputs": [],
   "source": [
    "# JCR_2021\n",
    "file <- extract_tables(\"./JCR_2021.pdf\",\n",
    "             output = \"data.frame\",\n",
    "             pages = 3:264,\n",
    "             method = \"stream\")"
   ]
  },
  {
   "cell_type": "code",
   "execution_count": 7,
   "metadata": {},
   "outputs": [],
   "source": [
    "n <- length(file)\n",
    "completed <- NULL\n",
    "for(i in 1:n){\n",
    "    colnames(file[[i]]) <- c(\"n\", \"Journal\", \"Total Cites\", \"Impact Factor\", \"Eigenfactor Score\" )\n",
    "    completed <- rbind(completed, file[[i]])\n",
    "}"
   ]
  },
  {
   "cell_type": "code",
   "execution_count": 8,
   "metadata": {},
   "outputs": [
    {
     "data": {
      "text/html": [
       "<table class=\"dataframe\">\n",
       "<caption>A data.frame: 6 × 5</caption>\n",
       "<thead>\n",
       "\t<tr><th></th><th scope=col>n</th><th scope=col>Journal</th><th scope=col>Total Cites</th><th scope=col>Impact Factor</th><th scope=col>Eigenfactor Score</th></tr>\n",
       "\t<tr><th></th><th scope=col>&lt;int&gt;</th><th scope=col>&lt;chr&gt;</th><th scope=col>&lt;chr&gt;</th><th scope=col>&lt;chr&gt;</th><th scope=col>&lt;dbl&gt;</th></tr>\n",
       "</thead>\n",
       "<tbody>\n",
       "\t<tr><th scope=row>1</th><td>NA</td><td>Materials Science &amp; Engineering R-</td><td><span style=white-space:pre-wrap>      </span></td><td><span style=white-space:pre-wrap>NA    </span></td><td><span style=white-space:pre-wrap>     NA</span></td></tr>\n",
       "\t<tr><th scope=row>2</th><td>46</td><td>Reports                           </td><td>8,652 </td><td>36.214</td><td>0.00477</td></tr>\n",
       "\t<tr><th scope=row>3</th><td>47</td><td>Nature Reviews Neuroscience       </td><td>49,897</td><td>34.87 </td><td>0.04889</td></tr>\n",
       "\t<tr><th scope=row>4</th><td>48</td><td>Nature Reviews Chemistry          </td><td>5,750 </td><td>34.035</td><td>0.01752</td></tr>\n",
       "\t<tr><th scope=row>5</th><td>49</td><td>Nature Electronics                </td><td>4,455 </td><td>33.686</td><td>0.01448</td></tr>\n",
       "\t<tr><th scope=row>6</th><td>50</td><td>Annals Of Oncology                </td><td>61,542</td><td>32.976</td><td>0.11718</td></tr>\n",
       "</tbody>\n",
       "</table>\n"
      ],
      "text/latex": [
       "A data.frame: 6 × 5\n",
       "\\begin{tabular}{r|lllll}\n",
       "  & n & Journal & Total Cites & Impact Factor & Eigenfactor Score\\\\\n",
       "  & <int> & <chr> & <chr> & <chr> & <dbl>\\\\\n",
       "\\hline\n",
       "\t1 & NA & Materials Science \\& Engineering R- &        & NA     &      NA\\\\\n",
       "\t2 & 46 & Reports                            & 8,652  & 36.214 & 0.00477\\\\\n",
       "\t3 & 47 & Nature Reviews Neuroscience        & 49,897 & 34.87  & 0.04889\\\\\n",
       "\t4 & 48 & Nature Reviews Chemistry           & 5,750  & 34.035 & 0.01752\\\\\n",
       "\t5 & 49 & Nature Electronics                 & 4,455  & 33.686 & 0.01448\\\\\n",
       "\t6 & 50 & Annals Of Oncology                 & 61,542 & 32.976 & 0.11718\\\\\n",
       "\\end{tabular}\n"
      ],
      "text/markdown": [
       "\n",
       "A data.frame: 6 × 5\n",
       "\n",
       "| <!--/--> | n &lt;int&gt; | Journal &lt;chr&gt; | Total Cites &lt;chr&gt; | Impact Factor &lt;chr&gt; | Eigenfactor Score &lt;dbl&gt; |\n",
       "|---|---|---|---|---|---|\n",
       "| 1 | NA | Materials Science &amp; Engineering R- | <!----> | NA     |      NA |\n",
       "| 2 | 46 | Reports                            | 8,652  | 36.214 | 0.00477 |\n",
       "| 3 | 47 | Nature Reviews Neuroscience        | 49,897 | 34.87  | 0.04889 |\n",
       "| 4 | 48 | Nature Reviews Chemistry           | 5,750  | 34.035 | 0.01752 |\n",
       "| 5 | 49 | Nature Electronics                 | 4,455  | 33.686 | 0.01448 |\n",
       "| 6 | 50 | Annals Of Oncology                 | 61,542 | 32.976 | 0.11718 |\n",
       "\n"
      ],
      "text/plain": [
       "  n  Journal                            Total Cites Impact Factor\n",
       "1 NA Materials Science & Engineering R-             NA           \n",
       "2 46 Reports                            8,652       36.214       \n",
       "3 47 Nature Reviews Neuroscience        49,897      34.87        \n",
       "4 48 Nature Reviews Chemistry           5,750       34.035       \n",
       "5 49 Nature Electronics                 4,455       33.686       \n",
       "6 50 Annals Of Oncology                 61,542      32.976       \n",
       "  Eigenfactor Score\n",
       "1      NA          \n",
       "2 0.00477          \n",
       "3 0.04889          \n",
       "4 0.01752          \n",
       "5 0.01448          \n",
       "6 0.11718          "
      ]
     },
     "metadata": {},
     "output_type": "display_data"
    }
   ],
   "source": [
    "base.journals <- completed %>% \n",
    "    mutate(Journal = str_to_title(Journal))\n",
    "head(base.journals)"
   ]
  },
  {
   "cell_type": "code",
   "execution_count": 9,
   "metadata": {},
   "outputs": [
    {
     "name": "stderr",
     "output_type": "stream",
     "text": [
      "Warning message:\n",
      "\"NAs introducidos por coerción\"\n"
     ]
    },
    {
     "data": {
      "text/html": [
       "<table class=\"dataframe\">\n",
       "<caption>A data.frame: 25 × 5</caption>\n",
       "<thead>\n",
       "\t<tr><th scope=col>n</th><th scope=col>Journal</th><th scope=col>Total.Cites</th><th scope=col>Impact.Factor</th><th scope=col>Eigenfactor.Score</th></tr>\n",
       "\t<tr><th scope=col>&lt;int&gt;</th><th scope=col>&lt;chr&gt;</th><th scope=col>&lt;chr&gt;</th><th scope=col>&lt;dbl&gt;</th><th scope=col>&lt;dbl&gt;</th></tr>\n",
       "</thead>\n",
       "<tbody>\n",
       "\t<tr><td>  812</td><td>Journal Of Finance                             </td><td>52,685</td><td>7.544</td><td>0.04489</td></tr>\n",
       "\t<tr><td> 1550</td><td>Finance Research Letters                       </td><td>4,898 </td><td>5.596</td><td>0.00757</td></tr>\n",
       "\t<tr><td> 2704</td><td>Journal Of Corporate Finance                   </td><td>9,473 </td><td>4.249</td><td>0.01112</td></tr>\n",
       "\t<tr><td> 2915</td><td>Research In International Business And Finance </td><td>3,698 </td><td>4.091</td><td>0.00412</td></tr>\n",
       "\t<tr><td> 3206</td><td>Review Of Finance                              </td><td>3,123 </td><td>3.894</td><td>0.01093</td></tr>\n",
       "\t<tr><td> 4737</td><td><span style=white-space:pre-wrap>Journal Of Banking &amp; Finance                   </span></td><td>23,614</td><td>3.070</td><td>0.01649</td></tr>\n",
       "\t<tr><td> 5034</td><td>Accounting And Finance                         </td><td>2,707 </td><td>2.942</td><td>0.00163</td></tr>\n",
       "\t<tr><td> 5429</td><td>Journal Of Empirical Finance                   </td><td>3,810 </td><td>2.779</td><td>0.00385</td></tr>\n",
       "\t<tr><td> 5447</td><td>North American Journal Of Economics And Finance</td><td>2,130 </td><td>2.772</td><td>0.00234</td></tr>\n",
       "\t<tr><td> 5551</td><td>Finance                                        </td><td>6,717 </td><td>2.731</td><td>0.00750</td></tr>\n",
       "\t<tr><td> 5728</td><td>Mathematical Finance                           </td><td>2,717 </td><td>2.667</td><td>0.00314</td></tr>\n",
       "\t<tr><td> 5853</td><td>Finance                                        </td><td>2,651 </td><td>2.619</td><td>0.00255</td></tr>\n",
       "\t<tr><td> 6083</td><td><span style=white-space:pre-wrap>International Review Of Economics &amp; Finance    </span></td><td>4,134 </td><td>2.522</td><td>0.00481</td></tr>\n",
       "\t<tr><td> 6105</td><td>Pacific-Basin Finance Journal                  </td><td>3,338 </td><td>2.514</td><td>0.00245</td></tr>\n",
       "\t<tr><td> 6250</td><td><span style=white-space:pre-wrap>Journal Of Business Finance &amp; Accounting       </span></td><td>3,498 </td><td>2.473</td><td>0.00172</td></tr>\n",
       "\t<tr><td> 6281</td><td>Finance And Stochastics                        </td><td>1,655 </td><td>2.467</td><td>0.00285</td></tr>\n",
       "\t<tr><td> 6735</td><td>Education Finance And Policy                   </td><td>785   </td><td>2.326</td><td>0.00348</td></tr>\n",
       "\t<tr><td> 6771</td><td>Emerging Markets Finance And Trade             </td><td>2,849 </td><td>2.315</td><td>0.00312</td></tr>\n",
       "\t<tr><td> 6885</td><td>Finance And Management                         </td><td>936   </td><td>2.276</td><td>0.00038</td></tr>\n",
       "\t<tr><td> 7056</td><td>Quantitative Finance                           </td><td>3,362 </td><td>2.222</td><td>0.00415</td></tr>\n",
       "\t<tr><td> 8376</td><td>International Review Of Finance                </td><td>683   </td><td>1.824</td><td>0.00051</td></tr>\n",
       "\t<tr><td> 8421</td><td>European Journal Of Finance                    </td><td>1,594 </td><td>1.809</td><td>0.00168</td></tr>\n",
       "\t<tr><td> 8923</td><td>Journal Of Behavioral Finance                  </td><td>885   </td><td>1.647</td><td>0.00097</td></tr>\n",
       "\t<tr><td> 9888</td><td>International Tax And Public Finance           </td><td>1,439 </td><td>1.340</td><td>0.00175</td></tr>\n",
       "\t<tr><td>10831</td><td>Journal Of Computational Finance               </td><td>511   </td><td>1.025</td><td>0.00045</td></tr>\n",
       "</tbody>\n",
       "</table>\n"
      ],
      "text/latex": [
       "A data.frame: 25 × 5\n",
       "\\begin{tabular}{lllll}\n",
       " n & Journal & Total.Cites & Impact.Factor & Eigenfactor.Score\\\\\n",
       " <int> & <chr> & <chr> & <dbl> & <dbl>\\\\\n",
       "\\hline\n",
       "\t   812 & Journal Of Finance                              & 52,685 & 7.544 & 0.04489\\\\\n",
       "\t  1550 & Finance Research Letters                        & 4,898  & 5.596 & 0.00757\\\\\n",
       "\t  2704 & Journal Of Corporate Finance                    & 9,473  & 4.249 & 0.01112\\\\\n",
       "\t  2915 & Research In International Business And Finance  & 3,698  & 4.091 & 0.00412\\\\\n",
       "\t  3206 & Review Of Finance                               & 3,123  & 3.894 & 0.01093\\\\\n",
       "\t  4737 & Journal Of Banking \\& Finance                    & 23,614 & 3.070 & 0.01649\\\\\n",
       "\t  5034 & Accounting And Finance                          & 2,707  & 2.942 & 0.00163\\\\\n",
       "\t  5429 & Journal Of Empirical Finance                    & 3,810  & 2.779 & 0.00385\\\\\n",
       "\t  5447 & North American Journal Of Economics And Finance & 2,130  & 2.772 & 0.00234\\\\\n",
       "\t  5551 & Finance                                         & 6,717  & 2.731 & 0.00750\\\\\n",
       "\t  5728 & Mathematical Finance                            & 2,717  & 2.667 & 0.00314\\\\\n",
       "\t  5853 & Finance                                         & 2,651  & 2.619 & 0.00255\\\\\n",
       "\t  6083 & International Review Of Economics \\& Finance     & 4,134  & 2.522 & 0.00481\\\\\n",
       "\t  6105 & Pacific-Basin Finance Journal                   & 3,338  & 2.514 & 0.00245\\\\\n",
       "\t  6250 & Journal Of Business Finance \\& Accounting        & 3,498  & 2.473 & 0.00172\\\\\n",
       "\t  6281 & Finance And Stochastics                         & 1,655  & 2.467 & 0.00285\\\\\n",
       "\t  6735 & Education Finance And Policy                    & 785    & 2.326 & 0.00348\\\\\n",
       "\t  6771 & Emerging Markets Finance And Trade              & 2,849  & 2.315 & 0.00312\\\\\n",
       "\t  6885 & Finance And Management                          & 936    & 2.276 & 0.00038\\\\\n",
       "\t  7056 & Quantitative Finance                            & 3,362  & 2.222 & 0.00415\\\\\n",
       "\t  8376 & International Review Of Finance                 & 683    & 1.824 & 0.00051\\\\\n",
       "\t  8421 & European Journal Of Finance                     & 1,594  & 1.809 & 0.00168\\\\\n",
       "\t  8923 & Journal Of Behavioral Finance                   & 885    & 1.647 & 0.00097\\\\\n",
       "\t  9888 & International Tax And Public Finance            & 1,439  & 1.340 & 0.00175\\\\\n",
       "\t 10831 & Journal Of Computational Finance                & 511    & 1.025 & 0.00045\\\\\n",
       "\\end{tabular}\n"
      ],
      "text/markdown": [
       "\n",
       "A data.frame: 25 × 5\n",
       "\n",
       "| n &lt;int&gt; | Journal &lt;chr&gt; | Total.Cites &lt;chr&gt; | Impact.Factor &lt;dbl&gt; | Eigenfactor.Score &lt;dbl&gt; |\n",
       "|---|---|---|---|---|\n",
       "|   812 | Journal Of Finance                              | 52,685 | 7.544 | 0.04489 |\n",
       "|  1550 | Finance Research Letters                        | 4,898  | 5.596 | 0.00757 |\n",
       "|  2704 | Journal Of Corporate Finance                    | 9,473  | 4.249 | 0.01112 |\n",
       "|  2915 | Research In International Business And Finance  | 3,698  | 4.091 | 0.00412 |\n",
       "|  3206 | Review Of Finance                               | 3,123  | 3.894 | 0.01093 |\n",
       "|  4737 | Journal Of Banking &amp; Finance                    | 23,614 | 3.070 | 0.01649 |\n",
       "|  5034 | Accounting And Finance                          | 2,707  | 2.942 | 0.00163 |\n",
       "|  5429 | Journal Of Empirical Finance                    | 3,810  | 2.779 | 0.00385 |\n",
       "|  5447 | North American Journal Of Economics And Finance | 2,130  | 2.772 | 0.00234 |\n",
       "|  5551 | Finance                                         | 6,717  | 2.731 | 0.00750 |\n",
       "|  5728 | Mathematical Finance                            | 2,717  | 2.667 | 0.00314 |\n",
       "|  5853 | Finance                                         | 2,651  | 2.619 | 0.00255 |\n",
       "|  6083 | International Review Of Economics &amp; Finance     | 4,134  | 2.522 | 0.00481 |\n",
       "|  6105 | Pacific-Basin Finance Journal                   | 3,338  | 2.514 | 0.00245 |\n",
       "|  6250 | Journal Of Business Finance &amp; Accounting        | 3,498  | 2.473 | 0.00172 |\n",
       "|  6281 | Finance And Stochastics                         | 1,655  | 2.467 | 0.00285 |\n",
       "|  6735 | Education Finance And Policy                    | 785    | 2.326 | 0.00348 |\n",
       "|  6771 | Emerging Markets Finance And Trade              | 2,849  | 2.315 | 0.00312 |\n",
       "|  6885 | Finance And Management                          | 936    | 2.276 | 0.00038 |\n",
       "|  7056 | Quantitative Finance                            | 3,362  | 2.222 | 0.00415 |\n",
       "|  8376 | International Review Of Finance                 | 683    | 1.824 | 0.00051 |\n",
       "|  8421 | European Journal Of Finance                     | 1,594  | 1.809 | 0.00168 |\n",
       "|  8923 | Journal Of Behavioral Finance                   | 885    | 1.647 | 0.00097 |\n",
       "|  9888 | International Tax And Public Finance            | 1,439  | 1.340 | 0.00175 |\n",
       "| 10831 | Journal Of Computational Finance                | 511    | 1.025 | 0.00045 |\n",
       "\n"
      ],
      "text/plain": [
       "   n     Journal                                         Total.Cites\n",
       "1    812 Journal Of Finance                              52,685     \n",
       "2   1550 Finance Research Letters                        4,898      \n",
       "3   2704 Journal Of Corporate Finance                    9,473      \n",
       "4   2915 Research In International Business And Finance  3,698      \n",
       "5   3206 Review Of Finance                               3,123      \n",
       "6   4737 Journal Of Banking & Finance                    23,614     \n",
       "7   5034 Accounting And Finance                          2,707      \n",
       "8   5429 Journal Of Empirical Finance                    3,810      \n",
       "9   5447 North American Journal Of Economics And Finance 2,130      \n",
       "10  5551 Finance                                         6,717      \n",
       "11  5728 Mathematical Finance                            2,717      \n",
       "12  5853 Finance                                         2,651      \n",
       "13  6083 International Review Of Economics & Finance     4,134      \n",
       "14  6105 Pacific-Basin Finance Journal                   3,338      \n",
       "15  6250 Journal Of Business Finance & Accounting        3,498      \n",
       "16  6281 Finance And Stochastics                         1,655      \n",
       "17  6735 Education Finance And Policy                    785        \n",
       "18  6771 Emerging Markets Finance And Trade              2,849      \n",
       "19  6885 Finance And Management                          936        \n",
       "20  7056 Quantitative Finance                            3,362      \n",
       "21  8376 International Review Of Finance                 683        \n",
       "22  8421 European Journal Of Finance                     1,594      \n",
       "23  8923 Journal Of Behavioral Finance                   885        \n",
       "24  9888 International Tax And Public Finance            1,439      \n",
       "25 10831 Journal Of Computational Finance                511        \n",
       "   Impact.Factor Eigenfactor.Score\n",
       "1  7.544         0.04489          \n",
       "2  5.596         0.00757          \n",
       "3  4.249         0.01112          \n",
       "4  4.091         0.00412          \n",
       "5  3.894         0.01093          \n",
       "6  3.070         0.01649          \n",
       "7  2.942         0.00163          \n",
       "8  2.779         0.00385          \n",
       "9  2.772         0.00234          \n",
       "10 2.731         0.00750          \n",
       "11 2.667         0.00314          \n",
       "12 2.619         0.00255          \n",
       "13 2.522         0.00481          \n",
       "14 2.514         0.00245          \n",
       "15 2.473         0.00172          \n",
       "16 2.467         0.00285          \n",
       "17 2.326         0.00348          \n",
       "18 2.315         0.00312          \n",
       "19 2.276         0.00038          \n",
       "20 2.222         0.00415          \n",
       "21 1.824         0.00051          \n",
       "22 1.809         0.00168          \n",
       "23 1.647         0.00097          \n",
       "24 1.340         0.00175          \n",
       "25 1.025         0.00045          "
      ]
     },
     "metadata": {},
     "output_type": "display_data"
    }
   ],
   "source": [
    "base.journals %>%  \n",
    "    data.frame() %>%\n",
    "    mutate(Impact.Factor = as.numeric(Impact.Factor)) %>% \n",
    "    filter(!is.na(n)) %>% \n",
    "    filter(grepl(\"Finance\",Journal) | grepl(\"FINAN\",Journal)) %>% \n",
    "    filter(Impact.Factor > 1) %>% \n",
    "    arrange(desc(Impact.Factor)) %>% \n",
    "    distinct()"
   ]
  }
 ],
 "metadata": {
  "kernelspec": {
   "display_name": "R",
   "language": "R",
   "name": "ir"
  },
  "language_info": {
   "codemirror_mode": "r",
   "file_extension": ".r",
   "mimetype": "text/x-r-source",
   "name": "R",
   "pygments_lexer": "r",
   "version": "4.0.4"
  },
  "orig_nbformat": 4
 },
 "nbformat": 4,
 "nbformat_minor": 2
}
