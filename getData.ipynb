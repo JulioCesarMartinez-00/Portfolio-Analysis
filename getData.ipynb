{
 "cells": [
  {
   "cell_type": "code",
   "execution_count": null,
   "metadata": {},
   "outputs": [],
   "source": [
    "import sys\n",
    "!{sys.executable} -m pip install yfinance\n",
    "import yfinance as yf\n",
    "import numpy as np\n",
    "import pandas as pd\n",
    "from datetime import date"
   ]
  },
  {
   "cell_type": "code",
   "execution_count": null,
   "metadata": {},
   "outputs": [],
   "source": [
    "###############################################################################################################################\n",
    "def getData(assets,start,end):\n",
    "    i = 1\n",
    "    for asset in assets:\n",
    "        print(asset,'\\n')\n",
    "        df_assets_complete = yf.download(asset, start=start, end=end)\n",
    "        #\n",
    "        if df_assets_complete.index[0].year == int(start[0:4]) and df_assets_complete.index[0].month == int(start[5:7]) and df_assets_complete.index[0].day == int(start[9:11]):\n",
    "            if i==1:\n",
    "                df_assets_close = yf.download(asset, start=start, end=end)\n",
    "                # select columns\n",
    "                df_assets_close = df_assets_close[['Close']]\n",
    "                # rename columns\n",
    "                df_assets_close = df_assets_close.rename(columns={'Close':asset})\n",
    "            else:\n",
    "                df_assets_close2 = yf.download(asset, start=start, end=end)\n",
    "                # select columns\n",
    "                df_assets_close2 = df_assets_close2[['Close']]\n",
    "                # rename columns\n",
    "                df_assets_close2 = df_assets_close2.rename(columns={'Close':asset})\n",
    "                # mergin\n",
    "                df_assets_close = df_assets_close.merge(df_assets_close2,left_index=True, right_index=True)\n",
    "            i+=1\n",
    "        else:\n",
    "            continue\n",
    "\n",
    "    return df_assets_close\n",
    "##############################################################################################################################"
   ]
  }
 ],
 "metadata": {
  "kernelspec": {
   "display_name": "Python 3.7.3 64-bit",
   "language": "python",
   "name": "python37364bit1002bf32580f45eab4260c2580fddea6"
  },
  "language_info": {
   "codemirror_mode": {
    "name": "ipython",
    "version": 3
   },
   "file_extension": ".py",
   "mimetype": "text/x-python",
   "name": "python",
   "nbconvert_exporter": "python",
   "pygments_lexer": "ipython3",
   "version": "3.8.3"
  }
 },
 "nbformat": 4,
 "nbformat_minor": 4
}
